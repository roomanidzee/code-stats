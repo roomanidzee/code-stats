{
 "cells": [
  {
   "cell_type": "code",
   "execution_count": null,
   "metadata": {},
   "outputs": [],
   "source": [
    "import $ivy.`io.monix::monix:3.2.2`;\n",
    "import $ivy.`org.tpolecat::doobie-core:0.9.0`\n",
    "import $ivy.`org.tpolecat::doobie-hikari:0.9.0`\n",
    "import $ivy.`co.fs2::fs2-reactive-streams:2.4.4`\n",
    "import $ivy.`ru.yandex.clickhouse:clickhouse-jdbc:0.2.4`"
   ]
  },
  {
   "cell_type": "code",
   "execution_count": 4,
   "metadata": {},
   "outputs": [
    {
     "data": {
      "text/plain": [
       "\u001b[32mimport \u001b[39m\u001b[36mru.yandex.clickhouse.ClickHouseDataSource\n",
       "\u001b[39m\n",
       "\u001b[32mimport \u001b[39m\u001b[36mru.yandex.clickhouse.settings.ClickHouseProperties\n",
       "\n",
       "\u001b[39m\n",
       "\u001b[36mclickHouseProperties\u001b[39m: \u001b[32mClickHouseProperties\u001b[39m = ru.yandex.clickhouse.settings.ClickHouseProperties@1051b863\n",
       "\u001b[36mchDataSource\u001b[39m: \u001b[32mClickHouseDataSource\u001b[39m = ru.yandex.clickhouse.ClickHouseDataSource@291d4a9f"
      ]
     },
     "execution_count": 4,
     "metadata": {},
     "output_type": "execute_result"
    }
   ],
   "source": [
    "import ru.yandex.clickhouse.ClickHouseDataSource\n",
    "import ru.yandex.clickhouse.settings.ClickHouseProperties\n",
    "\n",
    "val clickHouseProperties = new ClickHouseProperties()\n",
    "\n",
    "clickHouseProperties.setHost(\"localhost\")\n",
    "clickHouseProperties.setPort(8123)\n",
    "clickHouseProperties.setDatabase(\"docker\")\n",
    "clickHouseProperties.setUser(\"default\")\n",
    "clickHouseProperties.setPassword(\"\")\n",
    "\n",
    "val chDataSource = new ClickHouseDataSource(\"jdbc:clickhouse://localhost:8123/docker\")\n"
   ]
  },
  {
   "cell_type": "code",
   "execution_count": 5,
   "metadata": {},
   "outputs": [
    {
     "data": {
      "text/plain": [
       "\u001b[32mimport \u001b[39m\u001b[36mdoobie.util.transactor.Transactor\n",
       "\u001b[39m\n",
       "\u001b[32mimport \u001b[39m\u001b[36mdoobie.util.transactor.Transactor.Aux\n",
       "\u001b[39m\n",
       "\u001b[32mimport \u001b[39m\u001b[36mmonix.eval.Task\n",
       "\n",
       "\u001b[39m\n",
       "\u001b[32mimport \u001b[39m\u001b[36mjava.util.concurrent.Executors\n",
       "\u001b[39m\n",
       "\u001b[32mimport \u001b[39m\u001b[36mscala.concurrent.ExecutionContext\n",
       "\u001b[39m\n",
       "\u001b[32mimport \u001b[39m\u001b[36mcats.effect.Blocker\n",
       "\n",
       "\u001b[39m\n",
       "\u001b[36mtransactor\u001b[39m: \u001b[32mAux\u001b[39m[\u001b[32mTask\u001b[39m, \u001b[32mClickHouseDataSource\u001b[39m] = doobie.util.transactor$Transactor$$anon$13@7edf46f6"
      ]
     },
     "execution_count": 5,
     "metadata": {},
     "output_type": "execute_result"
    }
   ],
   "source": [
    "import doobie.util.transactor.Transactor\n",
    "import doobie.util.transactor.Transactor.Aux\n",
    "import monix.eval.Task\n",
    "\n",
    "import java.util.concurrent.Executors\n",
    "import scala.concurrent.ExecutionContext\n",
    "import cats.effect.Blocker\n",
    "\n",
    "val transactor: Aux[Task, ClickHouseDataSource] = Transactor.fromDataSource[Task](\n",
    "      chDataSource,\n",
    "      ExecutionContext.fromExecutor(Executors.newFixedThreadPool(10)),\n",
    "      Blocker.liftExecutorService(Executors.newCachedThreadPool())\n",
    ")"
   ]
  },
  {
   "cell_type": "code",
   "execution_count": 12,
   "metadata": {},
   "outputs": [
    {
     "data": {
      "text/plain": [
       "defined \u001b[32mclass\u001b[39m \u001b[36mGitHubRecordBaseInfo\u001b[39m"
      ]
     },
     "execution_count": 12,
     "metadata": {},
     "output_type": "execute_result"
    }
   ],
   "source": [
    "case class GitHubRecordBaseInfo(\n",
    "   ghRequestUser: String,\n",
    "   name: String,\n",
    "   ownerType: String \n",
    ")"
   ]
  },
  {
   "cell_type": "code",
   "execution_count": 13,
   "metadata": {},
   "outputs": [
    {
     "data": {
      "text/plain": [
       "\u001b[32mimport \u001b[39m\u001b[36mdoobie.implicits._\n",
       "\n",
       "\u001b[39m\n",
       "defined \u001b[32mobject\u001b[39m \u001b[36mSimpleQueries\u001b[39m"
      ]
     },
     "execution_count": 13,
     "metadata": {},
     "output_type": "execute_result"
    }
   ],
   "source": [
    "import doobie.implicits._\n",
    "\n",
    "object SimpleQueries{\n",
    "    \n",
    "    def getCount: doobie.Query0[Int] = {\n",
    "        \n",
    "        sql\"SELECT COUNT(*) FROM docker.parquet_files\".stripMargin.query[Int]\n",
    "        \n",
    "    }\n",
    "    \n",
    "    def getBaseInfo(limitValue: Int): doobie.Query0[GitHubRecordBaseInfo] = {\n",
    "        \n",
    "        sql\"\"\"|SELECT ghRequestUser, name, ownerType\n",
    "              |FROM docker.parquet_files LIMIT $limitValue\"\"\".stripMargin.query[GitHubRecordBaseInfo]\n",
    "        \n",
    "    }\n",
    "    \n",
    "}\n"
   ]
  },
  {
   "cell_type": "code",
   "execution_count": 14,
   "metadata": {},
   "outputs": [
    {
     "data": {
      "text/plain": [
       "\u001b[32mimport \u001b[39m\u001b[36mdoobie.implicits._\n",
       "\u001b[39m\n",
       "\u001b[32mimport \u001b[39m\u001b[36mmonix.eval.Task\n",
       "\u001b[39m\n",
       "\u001b[32mimport \u001b[39m\u001b[36mfs2.interop.reactivestreams._\n",
       "\u001b[39m\n",
       "\u001b[32mimport \u001b[39m\u001b[36mmonix.execution.Scheduler.Implicits.global\n",
       "\u001b[39m\n",
       "\u001b[32mimport \u001b[39m\u001b[36mmonix.reactive.Observable\n",
       "\n",
       "\u001b[39m\n",
       "defined \u001b[32mobject\u001b[39m \u001b[36mSimpleRepository\u001b[39m"
      ]
     },
     "execution_count": 14,
     "metadata": {},
     "output_type": "execute_result"
    }
   ],
   "source": [
    "import doobie.implicits._\n",
    "import monix.eval.Task\n",
    "import fs2.interop.reactivestreams._\n",
    "import monix.execution.Scheduler.Implicits.global\n",
    "import monix.reactive.Observable\n",
    "\n",
    "object SimpleRepository{\n",
    "    \n",
    "    def getCount: Task[List[Int]] = {\n",
    "        \n",
    "        val publisher = SimpleQueries.getCount\n",
    "                                     .stream\n",
    "                                     .transact(transactor)\n",
    "                                     .toUnicastPublisher\n",
    "        \n",
    "        Observable.fromReactivePublisher(publisher).toListL\n",
    "        \n",
    "    }\n",
    "    \n",
    "    def getBaseInfo(limitValue: Int): Task[List[GitHubRecordBaseInfo]] = {\n",
    "        \n",
    "        val publisher = SimpleQueries.getBaseInfo(limitValue)\n",
    "                                     .stream\n",
    "                                     .transact(transactor)\n",
    "                                     .toUnicastPublisher\n",
    "        \n",
    "        Observable.fromReactivePublisher(publisher).toListL\n",
    "        \n",
    "    }\n",
    "    \n",
    "}\n"
   ]
  },
  {
   "cell_type": "code",
   "execution_count": 15,
   "metadata": {},
   "outputs": [
    {
     "data": {
      "text/plain": [
       "\u001b[32mimport \u001b[39m\u001b[36mmonix.execution.Scheduler.Implicits.global\u001b[39m"
      ]
     },
     "execution_count": 15,
     "metadata": {},
     "output_type": "execute_result"
    }
   ],
   "source": [
    "import monix.execution.Scheduler.Implicits.global"
   ]
  },
  {
   "cell_type": "code",
   "execution_count": 16,
   "metadata": {},
   "outputs": [
    {
     "data": {
      "text/plain": [
       "\u001b[36mres15\u001b[39m: \u001b[32mInt\u001b[39m = \u001b[32m6497\u001b[39m"
      ]
     },
     "execution_count": 16,
     "metadata": {},
     "output_type": "execute_result"
    }
   ],
   "source": [
    "SimpleRepository.getCount.runSyncUnsafe().head"
   ]
  },
  {
   "cell_type": "code",
   "execution_count": 17,
   "metadata": {},
   "outputs": [
    {
     "data": {
      "text/html": [
       "\n",
       "     <table>\n",
       "       <tr><th>ghRequestUser</th><th>name</th><th>ownerType</th></tr>\n",
       "       <tr><td>neolite</td><td>bootstrap</td><td>User</td></tr><tr><td>neolite</td><td>bootstrap-vue</td><td>User</td></tr><tr><td>neolite</td><td>bootstrapper</td><td>User</td></tr><tr><td>neolite</td><td>callback</td><td>User</td></tr><tr><td>neolite</td><td>devart-template</td><td>User</td></tr>\n",
       "     </table>  \n",
       "    "
      ]
     },
     "metadata": {},
     "output_type": "display_data"
    },
    {
     "data": {
      "text/plain": [
       "\u001b[36mheaders\u001b[39m: \u001b[32mSeq\u001b[39m[\u001b[32mString\u001b[39m] = \u001b[33mList\u001b[39m(\u001b[32m\"ghRequestUser\"\u001b[39m, \u001b[32m\"name\"\u001b[39m, \u001b[32m\"ownerType\"\u001b[39m)\n",
       "\u001b[36mselectResult\u001b[39m: \u001b[32mList\u001b[39m[\u001b[32mGitHubRecordBaseInfo\u001b[39m] = \u001b[33mList\u001b[39m(\n",
       "  \u001b[33mGitHubRecordBaseInfo\u001b[39m(\u001b[32m\"neolite\"\u001b[39m, \u001b[32m\"bootstrap\"\u001b[39m, \u001b[32m\"User\"\u001b[39m),\n",
       "  \u001b[33mGitHubRecordBaseInfo\u001b[39m(\u001b[32m\"neolite\"\u001b[39m, \u001b[32m\"bootstrap-vue\"\u001b[39m, \u001b[32m\"User\"\u001b[39m),\n",
       "  \u001b[33mGitHubRecordBaseInfo\u001b[39m(\u001b[32m\"neolite\"\u001b[39m, \u001b[32m\"bootstrapper\"\u001b[39m, \u001b[32m\"User\"\u001b[39m),\n",
       "  \u001b[33mGitHubRecordBaseInfo\u001b[39m(\u001b[32m\"neolite\"\u001b[39m, \u001b[32m\"callback\"\u001b[39m, \u001b[32m\"User\"\u001b[39m),\n",
       "  \u001b[33mGitHubRecordBaseInfo\u001b[39m(\u001b[32m\"neolite\"\u001b[39m, \u001b[32m\"devart-template\"\u001b[39m, \u001b[32m\"User\"\u001b[39m)\n",
       ")\n",
       "\u001b[36mhtmlString\u001b[39m: \u001b[32mString\u001b[39m = \u001b[32m\"\"\"\n",
       "     <table>\n",
       "       <tr><th>ghRequestUser</th><th>name</th><th>ownerType</th></tr>\n",
       "       <tr><td>neolite</td><td>bootstrap</td><td>User</td></tr><tr><td>neolite</td><td>bootstrap-vue</td><td>User</td></tr><tr><td>neolite</td><td>bootstrapper</td><td>User</td></tr><tr><td>neolite</td><td>callback</td><td>User</td></tr><tr><td>neolite</td><td>devart-template</td><td>User</td></tr>\n",
       "     </table>  \n",
       "    \"\"\"\u001b[39m"
      ]
     },
     "execution_count": 17,
     "metadata": {},
     "output_type": "execute_result"
    }
   ],
   "source": [
    "\n",
    "val headers: Seq[String] = Seq(\"ghRequestUser\", \"name\", \"ownerType\")\n",
    "\n",
    "val selectResult: List[GitHubRecordBaseInfo] = SimpleRepository.getBaseInfo(5).runSyncUnsafe()\n",
    "\n",
    "val htmlString: String = \n",
    "   s\"\"\"\n",
    "     <table>\n",
    "       <tr>${headers.map(elem => s\"<th>${elem}</th>\").mkString}</tr>\n",
    "       ${selectResult.map(row => s\"<tr><td>${row.ghRequestUser}</td><td>${row.name}</td><td>${row.ownerType}</td></tr>\").mkString}\n",
    "     </table>  \n",
    "    \"\"\"\n",
    "\n",
    "kernel.publish.html(htmlString)\n"
   ]
  },
  {
   "cell_type": "code",
   "execution_count": null,
   "metadata": {},
   "outputs": [],
   "source": []
  }
 ],
 "metadata": {
  "kernelspec": {
   "display_name": "Scala",
   "language": "scala",
   "name": "scala"
  },
  "language_info": {
   "codemirror_mode": "text/x-scala",
   "file_extension": ".sc",
   "mimetype": "text/x-scala",
   "name": "scala",
   "nbconvert_exporter": "script",
   "version": "2.13.3"
  }
 },
 "nbformat": 4,
 "nbformat_minor": 4
}
